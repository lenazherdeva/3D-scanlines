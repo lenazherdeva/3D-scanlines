{
 "cells": [
  {
   "cell_type": "code",
   "execution_count": 1,
   "metadata": {},
   "outputs": [],
   "source": [
    "import numpy as np\n",
    "import pykitti\n",
    "import os\n",
    "import math\n",
    "import matplotlib.pyplot as plt\n",
    "from mpl_toolkits.mplot3d import Axes3D\n",
    "import copy\n",
    "import sys\n",
    "sys.path.append(\"/Users/lzherdeva/Docs/Open3D/build/lib\")\n",
    "import py3d\n",
    "\n",
    "from tqdm import tqdm"
   ]
  },
  {
   "cell_type": "code",
   "execution_count": 3,
   "metadata": {},
   "outputs": [],
   "source": [
    "basedir = '/Users/lzherdeva/Docs/Diploma/'\n",
    "\n",
    "def load_data(date, drive, frame):\n",
    "    dataset = pykitti.raw(basedir, date, drive)\n",
    "    velo_dataset = list(dataset.velo)\n",
    "    velo_data = velo_dataset[frame]\n",
    "    \n",
    "    print('\\nDrive: ' + str(dataset.drive))\n",
    "\n",
    "    return velo_data"
   ]
  },
  {
   "cell_type": "code",
   "execution_count": 54,
   "metadata": {},
   "outputs": [
    {
     "name": "stdout",
     "output_type": "stream",
     "text": [
      "\n",
      "Drive: 2011_09_26_drive_0005_sync\n"
     ]
    }
   ],
   "source": [
    "date = '2011_09_26'\n",
    "drive = '0005'\n",
    "velo_data = load_data(date, drive, 11)[:, [0,1,2]]"
   ]
  },
  {
   "cell_type": "code",
   "execution_count": 5,
   "metadata": {},
   "outputs": [
    {
     "name": "stdout",
     "output_type": "stream",
     "text": [
      "\n",
      "Drive: 2011_09_26_drive_0005_sync\n"
     ]
    }
   ],
   "source": [
    "date = '2011_09_26'\n",
    "drive = '0005'\n",
    "velo_data = load_data(date, drive, 150)[:, [0,1,2]]"
   ]
  },
  {
   "cell_type": "code",
   "execution_count": 4,
   "metadata": {},
   "outputs": [
    {
     "name": "stdout",
     "output_type": "stream",
     "text": [
      "\n",
      "Drive: 2011_09_30_drive_0001_sync\n"
     ]
    }
   ],
   "source": [
    "date = '2011_09_30'\n",
    "drive = '0001'\n",
    "velo_data = load_data(date, drive, 0)[:, [0,1,2]]"
   ]
  },
  {
   "cell_type": "code",
   "execution_count": 5,
   "metadata": {},
   "outputs": [],
   "source": [
    "velo_data = velo_data[np.where((velo_data[:, 0] > -20) & (velo_data[:, 0] < 20) \n",
    "                               & (velo_data[:, 1] > -20) & (velo_data[:, 1] < 20) & (velo_data[:, 2] < 2)\n",
    "                               & (velo_data[:, 2] > -3))]"
   ]
  },
  {
   "cell_type": "markdown",
   "metadata": {},
   "source": [
    "### Show input frame"
   ]
  },
  {
   "cell_type": "code",
   "execution_count": 7,
   "metadata": {},
   "outputs": [],
   "source": [
    "pcd1 = py3d.PointCloud()\n",
    "pcd1.points = py3d.Vector3dVector(velo_data)\n",
    "py3d.draw_geometries([pcd1])"
   ]
  },
  {
   "cell_type": "code",
   "execution_count": 8,
   "metadata": {},
   "outputs": [],
   "source": [
    "source_down = py3d.voxel_down_sample(pcd1, 0.3) # create a uniformly downsampled point cloud from an input point cloud\n",
    "points = np.asarray(source_down.points)\n",
    "velo_data = points"
   ]
  },
  {
   "cell_type": "markdown",
   "metadata": {},
   "source": [
    "### Divide points into segments"
   ]
  },
  {
   "cell_type": "code",
   "execution_count": 9,
   "metadata": {},
   "outputs": [],
   "source": [
    "def dotproduct(v1, v2):\n",
    "    return sum((a*b) for a, b in zip(v1, v2))\n",
    "\n",
    "def length(v):\n",
    "    return math.sqrt(dotproduct(v, v))\n",
    "\n",
    "def unit_vector(vector):\n",
    "    return vector / np.linalg.norm(vector)\n",
    "\n",
    "def comp_angle(v1, v2):\n",
    "    sign = dotproduct(v1, v2)\n",
    "    v1_u = unit_vector(v1)\n",
    "    v2_u = unit_vector(v2)\n",
    "    if sign > 0:\n",
    "        if v1[1] < 0:\n",
    "            return 360 - np.degrees(np.arccos(np.clip(np.dot(v1_u, v2_u), -1.0, 1.0)))\n",
    "        else:\n",
    "            return np.degrees(np.arccos(np.clip(np.dot(v1_u, v2_u), -1.0, 1.0)))\n",
    "    else:\n",
    "        if v1[1] < 0:\n",
    "            return 360 - np.degrees(np.arccos(np.clip(np.dot(v1_u, v2_u), -1.0, 1.0)))\n",
    "        else:\n",
    "            return np.degrees(np.arccos(np.clip(np.dot(v1_u, v2_u), -1.0, 1.0)))\n",
    "            "
   ]
  },
  {
   "cell_type": "code",
   "execution_count": 10,
   "metadata": {},
   "outputs": [],
   "source": [
    "ref_vector = [1, 0]\n",
    "step = 0\n",
    "scanlines = [[] for _ in range(360*2)]\n",
    "for i in range(len(velo_data)):\n",
    "    angle = comp_angle(velo_data[:, [0, 1]][i], ref_vector)\n",
    "    index = 0\n",
    "    for step in np.arange(0.5, 360+0.5, 0.5):\n",
    "        if angle < step and angle >= step-0.5:\n",
    "            try:\n",
    "                scanlines[index].append(velo_data[i])\n",
    "            except:\n",
    "                print(index, step)\n",
    "        index+=1"
   ]
  },
  {
   "cell_type": "markdown",
   "metadata": {},
   "source": [
    "$$ \\frac{x - x_1}{x_2 - x_1} = \\frac{y - y_1}{y_2 - y_1} = \\frac{z - z_1}{z_2 - z_1}$$\n"
   ]
  },
  {
   "cell_type": "markdown",
   "metadata": {},
   "source": [
    "### Sorted by z-coordinate"
   ]
  },
  {
   "cell_type": "code",
   "execution_count": 11,
   "metadata": {},
   "outputs": [],
   "source": [
    "import operator\n",
    "from convert import convert_to_variables"
   ]
  },
  {
   "cell_type": "code",
   "execution_count": 12,
   "metadata": {},
   "outputs": [],
   "source": [
    "scans = [[] for _ in range(len(scanlines))]\n",
    "for num in range(0, len(scanlines), 1):\n",
    "    zs = {}\n",
    "    for i, p in enumerate(scanlines[num]):\n",
    "        if p[1] == 0:\n",
    "            z = p[1] / p[0]\n",
    "        else:\n",
    "            y = np.sqrt(1. / (1. + (p[0] / p[1]) ** 2))\n",
    "            z = y * (p[2] / p[1])\n",
    "        zs[z] = i\n",
    "    sorted_zs  = np.array(sorted(zs.items(), key=operator.itemgetter(0)))\n",
    "    if len(sorted_zs) == 0:\n",
    "        scans[num] = []\n",
    "    else:\n",
    "        true_scanline = []\n",
    "        for index in sorted_zs[:, [1]]:\n",
    "            true_scanline.append(scanlines[num][int(index)])\n",
    "        true_scanline = np.array(true_scanline)\n",
    "        scans[num] = true_scanline"
   ]
  },
  {
   "cell_type": "markdown",
   "metadata": {},
   "source": [
    "### Create clusters"
   ]
  },
  {
   "cell_type": "code",
   "execution_count": 13,
   "metadata": {},
   "outputs": [],
   "source": [
    "def get_clusters(cur_scan):\n",
    "    clusters = [[] for _ in range(len(cur_scan))]\n",
    "    base_pho = cur_scan[0][0]**2 + cur_scan[0][1]**2 + cur_scan[0][2]**2\n",
    "    clusters[0].append(cur_scan[0])\n",
    "    ind = 0\n",
    "    for i in range(1, len(cur_scan)):\n",
    "        pho = cur_scan[i][0]**2 + cur_scan[i][1]**2 + cur_scan[i][2]**2\n",
    "        if abs(base_pho - pho) >=2:\n",
    "            ind += 1\n",
    "            clusters[ind].append(np.array(cur_scan[i]))\n",
    "            base_pho = pho\n",
    "        else:\n",
    "            clusters[ind].append(np.array(cur_scan[i])) \n",
    "    return clusters\n"
   ]
  },
  {
   "cell_type": "code",
   "execution_count": 14,
   "metadata": {},
   "outputs": [],
   "source": [
    "clusters = [[] for _ in range(len(scans))]\n",
    "for i in range(len(scans)):\n",
    "    if len(scans[i]) == 0:\n",
    "        clusters[i] = []\n",
    "    else:\n",
    "        clusters[i] = get_clusters(scans[i])\n",
    "    "
   ]
  },
  {
   "cell_type": "markdown",
   "metadata": {},
   "source": [
    "### Get median == new scanlines"
   ]
  },
  {
   "cell_type": "code",
   "execution_count": 15,
   "metadata": {},
   "outputs": [],
   "source": [
    "def get_new_scanline(clusters):\n",
    "    medians = []\n",
    "    for i in range(len(clusters)):\n",
    "        if clusters[i] != []:\n",
    "            medians.append(np.median(clusters[i], axis=0))\n",
    "    return medians"
   ]
  },
  {
   "cell_type": "code",
   "execution_count": 16,
   "metadata": {},
   "outputs": [],
   "source": [
    "new_scanlines = [[] for _ in range(len(clusters))]\n",
    "for i in range(len(clusters)):\n",
    "    new_scanlines[i] = get_new_scanline(clusters[i])\n",
    "    ans = get_new_scanline(clusters[i])\n"
   ]
  },
  {
   "cell_type": "markdown",
   "metadata": {},
   "source": [
    "### Get variables"
   ]
  },
  {
   "cell_type": "code",
   "execution_count": 18,
   "metadata": {},
   "outputs": [],
   "source": [
    "sVs = [[] for _ in range(len(new_scanlines))]\n",
    "for i in range(len(new_scanlines)):\n",
    "    if len(new_scanlines[i]) == 1:\n",
    "        sVs[i] = [0]\n",
    "    elif len(new_scanlines[i]) == 0:\n",
    "        sVs[i] = [0]\n",
    "    else:\n",
    "        try:\n",
    "            sVs[i] = convert_to_variables(np.array(new_scanlines[i]))\n",
    "        except:\n",
    "            print(len(new_scanlines[i]))"
   ]
  },
  {
   "cell_type": "code",
   "execution_count": 19,
   "metadata": {},
   "outputs": [],
   "source": [
    "def plot(sVs):\n",
    "    plt.plot(range(len(sVs)), sVs)\n",
    "    plt.show()"
   ]
  },
  {
   "cell_type": "code",
   "execution_count": 21,
   "metadata": {},
   "outputs": [
    {
     "data": {
      "image/png": "[encoded data removed]",
      "text/plain": [
       "<matplotlib.figure.Figure at 0x120776198>"
      ]
     },
     "metadata": {},
     "output_type": "display_data"
    },
    {
     "data": {
      "image/png": "[encoded data removed]",
      "text/plain": [
       "<matplotlib.figure.Figure at 0x12078e4a8>"
      ]
     },
     "metadata": {},
     "output_type": "display_data"
    },
    {
     "data": {
      "image/png": "[encoded data removed]",
      "text/plain": [
       "<matplotlib.figure.Figure at 0x1208aa438>"
      ]
     },
     "metadata": {},
     "output_type": "display_data"
    },
    {
     "data": {
      "image/png": "[encoded data removed]",
      "text/plain": [
       "<matplotlib.figure.Figure at 0x1208dc550>"
      ]
     },
     "metadata": {},
     "output_type": "display_data"
    }
   ],
   "source": [
    "plt.figure(1)\n",
    "for i in range(1, 5):\n",
    "    plt.subplot(220+i)\n",
    "    plot(sVs[i])\n",
    "    "
   ]
  },
  {
   "cell_type": "markdown",
   "metadata": {},
   "source": [
    "### CUSUM"
   ]
  },
  {
   "cell_type": "code",
   "execution_count": 22,
   "metadata": {},
   "outputs": [],
   "source": [
    "from Statistics import Cusum"
   ]
  },
  {
   "cell_type": "code",
   "execution_count": 23,
   "metadata": {},
   "outputs": [],
   "source": [
    "def calculate_cusum_for_scanline(sVs):\n",
    "    stat_trajectory = []\n",
    "    mean_0 = 0.\n",
    "    mean_8 = 90.\n",
    "    std = 1.\n",
    "\n",
    "    cusum = Cusum(mean_0, mean_8, std, 20.) \n",
    "    for x_k in sVs:\n",
    "        cusum.update(x_k)\n",
    "        stat_trajectory.append(cusum._alarm)\n",
    "    return stat_trajectory"
   ]
  },
  {
   "cell_type": "code",
   "execution_count": 24,
   "metadata": {},
   "outputs": [],
   "source": [
    "trajectories_cusum = [[] for _ in range(len(sVs))]\n",
    "for i in range(len(sVs)):\n",
    "    if len(sVs[i]) == 1:\n",
    "        trajectories_cusum[i] = 1\n",
    "    else:\n",
    "        trajectories_cusum[i] = calculate_cusum_for_scanline(sVs[i])"
   ]
  },
  {
   "cell_type": "code",
   "execution_count": 26,
   "metadata": {},
   "outputs": [
    {
     "data": {
      "image/png": "[encoded data removed]",
      "text/plain": [
       "<matplotlib.figure.Figure at 0x1208b9748>"
      ]
     },
     "metadata": {},
     "output_type": "display_data"
    }
   ],
   "source": [
    "plt.figure(1, figsize=(18, 9))\n",
    "plt.subplot(231)\n",
    "plt.plot(trajectories_cusum[10])\n",
    "plt.title('Scanline # 10')\n",
    "\n",
    "plt.subplot(232)\n",
    "plt.plot(trajectories_cusum[11])\n",
    "plt.title('Scanline # 11')\n",
    "\n",
    "plt.subplot(233)\n",
    "plt.plot(trajectories_cusum[100])\n",
    "plt.title('Scanline # 100')\n",
    "\n",
    "plt.subplot(234)\n",
    "plt.plot(trajectories_cusum[211])\n",
    "plt.title('Scanline # 211')\n",
    "\n",
    "\n",
    "plt.figure(1)\n",
    "plt.subplot(235)\n",
    "plt.plot(trajectories_cusum[301])\n",
    "plt.title('Scanline # 301')\n",
    "\n",
    "plt.subplot(236)\n",
    "plt.plot(trajectories_cusum[2])\n",
    "plt.title('Scanline # 2')\n",
    "\n",
    "\n",
    "plt.show()\n"
   ]
  },
  {
   "cell_type": "markdown",
   "metadata": {},
   "source": [
    "### Статистика Ширяева-Робертса"
   ]
  },
  {
   "cell_type": "code",
   "execution_count": 824,
   "metadata": {},
   "outputs": [],
   "source": [
    "from Statistics import ShiryaevRoberts"
   ]
  },
  {
   "cell_type": "code",
   "execution_count": 825,
   "metadata": {},
   "outputs": [],
   "source": [
    "def calculate_sr_for_scanline(sVs):\n",
    "    stat_trajectory = []\n",
    "    mean_0 = 90.\n",
    "    mean_8 = 0.\n",
    "    std = 1.\n",
    "\n",
    "\n",
    "    sr = ShiryaevRoberts(mean_0, mean_8, 20., max_stat=1e6)\n",
    "    for x_k in sVs:\n",
    "        sr.update(x_k)\n",
    "        stat_trajectory.append(sr._alarm)\n",
    "    return stat_trajectory"
   ]
  },
  {
   "cell_type": "code",
   "execution_count": 826,
   "metadata": {},
   "outputs": [
    {
     "name": "stderr",
     "output_type": "stream",
     "text": [
      "/Users/lzherdeva/Docs/Diploma/Statistics.py:67: RuntimeWarning: overflow encountered in exp\n",
      "  likelihood = np.exp(mean_diff * (value - mean_diff / 2.))\n",
      "/Users/lzherdeva/Docs/Diploma/Statistics.py:68: RuntimeWarning: overflow encountered in double_scalars\n",
      "  self._stat = min(self._max_stat, (1. + self._stat) * likelihood)\n"
     ]
    }
   ],
   "source": [
    "trajectories_sr = [[] for _ in range(len(sVs))]\n",
    "for i in range(len(sVs)):\n",
    "    if len(sVs[i]) == 1:\n",
    "        trajectories_sr[i] = 1\n",
    "    else:\n",
    "        trajectories_sr[i] = calculate_sr_for_scanline(sVs[i])"
   ]
  },
  {
   "cell_type": "code",
   "execution_count": 828,
   "metadata": {},
   "outputs": [
    {
     "data": {
      "image/png": "[encoded data removed]",
      "text/plain": [
       "<matplotlib.figure.Figure at 0x122eac438>"
      ]
     },
     "metadata": {},
     "output_type": "display_data"
    }
   ],
   "source": [
    "plt.figure(1, figsize=(18, 9))\n",
    "plt.subplot(231)\n",
    "plt.plot(trajectories_sr[10])\n",
    "plt.title('Scanline # 10')\n",
    "\n",
    "plt.subplot(232)\n",
    "plt.plot(trajectories_sr[11])\n",
    "plt.title('Scanline # 11')\n",
    "\n",
    "plt.subplot(233)\n",
    "plt.plot(trajectories_sr[100])\n",
    "plt.title('Scanline # 100')\n",
    "\n",
    "plt.subplot(234)\n",
    "plt.plot(trajectories_sr[211])\n",
    "plt.title('Scanline # 211')\n",
    "\n",
    "\n",
    "plt.figure(1)\n",
    "plt.subplot(235)\n",
    "plt.plot(trajectories_sr[301])\n",
    "plt.title('Scanline # 301')\n",
    "\n",
    "plt.subplot(236)\n",
    "plt.plot(trajectories_sr[2])\n",
    "plt.title('Scanline # 2')\n",
    "\n",
    "\n",
    "plt.show()\n",
    "\n"
   ]
  },
  {
   "cell_type": "markdown",
   "metadata": {},
   "source": [
    "### Visualization"
   ]
  },
  {
   "cell_type": "markdown",
   "metadata": {},
   "source": [
    "### CUSUM"
   ]
  },
  {
   "cell_type": "code",
   "execution_count": 27,
   "metadata": {},
   "outputs": [],
   "source": [
    "changed_indx = [[] for _ in range(len(trajectories_cusum))]\n",
    "zero_indx = [[] for _ in range(len(trajectories_cusum))]\n",
    "for i in range(len(trajectories_cusum)):\n",
    "    changed_indx[i] = np.nonzero(trajectories_cusum[i])[0]\n",
    "    zero_indx[i] = np.where(np.asarray(trajectories_cusum[i]) == 0)[0]"
   ]
  },
  {
   "cell_type": "code",
   "execution_count": 28,
   "metadata": {},
   "outputs": [],
   "source": [
    "changed_indx = np.array(changed_indx)\n",
    "zero_indx = np.array(zero_indx)"
   ]
  },
  {
   "cell_type": "code",
   "execution_count": 29,
   "metadata": {
    "scrolled": true
   },
   "outputs": [],
   "source": [
    "horizontal = []\n",
    "vertical = []\n",
    "flag = False\n",
    "for ind in range(len(new_scanlines)):\n",
    "    flag = False\n",
    "    if len(changed_indx[ind]) is not 0 and len(new_scanlines[ind]) is not 0:\n",
    "        if len(new_scanlines[ind]) == 1 and changed_indx[ind] == 0:\n",
    "            arr = np.array(new_scanlines[ind])[changed_indx[ind]]\n",
    "        else:\n",
    "            arr = np.array(new_scanlines[ind])[np.array(changed_indx[ind]+2)]\n",
    "        vertical.append(arr)\n",
    "        flag = True\n",
    "    if len(zero_indx[ind]) is not 0:\n",
    "        if len(new_scanlines[ind]) == 1 and zero_indx[ind] == 0:\n",
    "            arr = np.array(new_scanlines[ind])[zero_indx[ind]]\n",
    "        else:\n",
    "            arr = np.array(new_scanlines[ind])[np.append([0, 1], np.array(zero_indx[ind]+2))]  \n",
    "        horizontal.append(arr)\n",
    "        flag = True\n",
    "    if len(new_scanlines[ind]) != 1 and len(changed_indx[ind])!= 0 and len(new_scanlines[ind]) is not 0 and len(zero_indx[ind]) == 0:\n",
    "        arr = np.array(new_scanlines[ind])[np.append([0, 1], np.array(zero_indx[ind]+2))]  \n",
    "        horizontal.append(arr)\n",
    "    if flag == False:\n",
    "        horizontal.append(new_scanlines[ind])\n",
    "        "
   ]
  },
  {
   "cell_type": "code",
   "execution_count": 31,
   "metadata": {},
   "outputs": [],
   "source": [
    "ver_cloud = []\n",
    "for i in range(len(vertical)):\n",
    "    for p in vertical[i]:\n",
    "        ver_cloud.append(p)\n",
    "         \n",
    "pcd1 = py3d.PointCloud()\n",
    "pcd1.points = py3d.Vector3dVector(ver_cloud)\n",
    "\n",
    "#py3d.draw_geometries([pcd1])"
   ]
  },
  {
   "cell_type": "code",
   "execution_count": 32,
   "metadata": {},
   "outputs": [],
   "source": [
    "hor_cloud = []\n",
    "for i in range(len(horizontal)):\n",
    "    for p in horizontal[i]:\n",
    "        hor_cloud.append(p)\n",
    "        \n",
    "        \n",
    "pcd2 = py3d.PointCloud()\n",
    "pcd2.points = py3d.Vector3dVector(hor_cloud)\n",
    "\n",
    "#py3d.draw_geometries([pcd2])"
   ]
  },
  {
   "cell_type": "code",
   "execution_count": 33,
   "metadata": {},
   "outputs": [],
   "source": [
    "def draw_registration_result(vertical, horizontal):\n",
    "    vertical_temp = copy.deepcopy(vertical)\n",
    "    horizontal_temp = copy.deepcopy(horizontal)\n",
    "    vertical_temp.paint_uniform_color([1, 0, 0]) # red\n",
    "    horizontal_temp.paint_uniform_color([0, 0, 1]) # blue\n",
    "    py3d.draw_geometries([vertical_temp, horizontal_temp])"
   ]
  },
  {
   "cell_type": "code",
   "execution_count": 34,
   "metadata": {},
   "outputs": [],
   "source": [
    "draw_registration_result(pcd1, pcd2)"
   ]
  },
  {
   "cell_type": "markdown",
   "metadata": {},
   "source": [
    "### SR"
   ]
  },
  {
   "cell_type": "code",
   "execution_count": 830,
   "metadata": {},
   "outputs": [],
   "source": [
    "changed_indx = [[] for _ in range(len(trajectories_sr))]\n",
    "non_changed_indx = [[] for _ in range(len(trajectories_sr))]\n",
    "for i in range(len(trajectories_sr)):\n",
    "    non_changed_indx[i] = np.where(np.asarray(trajectories_sr[i]) == 50000.0)[0]\n",
    "    changed_indx[i] = np.where(np.asarray(trajectories_sr[i]) != 50000.0)[0]"
   ]
  },
  {
   "cell_type": "code",
   "execution_count": 831,
   "metadata": {},
   "outputs": [],
   "source": [
    "horizontal = []\n",
    "vertical = []\n",
    "flag = False\n",
    "for ind in range(len(new_scanlines)):\n",
    "    flag = False\n",
    "    if len(changed_indx[ind]) is not 0 and len(new_scanlines[ind]) is not 0:\n",
    "        if len(new_scanlines[ind]) == 1 and changed_indx[ind] == 0:\n",
    "            arr = np.array(new_scanlines[ind])[changed_indx[ind]]\n",
    "        else:\n",
    "            arr = np.array(new_scanlines[ind])[np.array(changed_indx[ind]+2)]\n",
    "        vertical.append(arr)\n",
    "        flag = True\n",
    "    if len(non_changed_indx[ind]) is not 0:\n",
    "        if len(new_scanlines[ind]) == 1 and non_changed_indx[ind] == 0:\n",
    "            arr = np.array(new_scanlines[ind])[non_changed_indx[ind]]\n",
    "        else:\n",
    "            arr = np.array(new_scanlines[ind])[np.append([0, 1], np.array(non_changed_indx[ind]+2))]  \n",
    "        horizontal.append(arr)\n",
    "        flag = True\n",
    "    if len(new_scanlines[ind]) != 1 and len(changed_indx[ind])!= 0 and len(non_changed_indx[ind]) == 0 and len(new_scanlines[ind]) != 0:\n",
    "        arr = np.array(new_scanlines[ind])[np.append([0, 1], np.array(non_changed_indx[ind]+2))]  \n",
    "        horizontal.append(arr)\n",
    "    if flag == False:\n",
    "        horizontal.append(new_scanlines[ind])\n",
    "        "
   ]
  },
  {
   "cell_type": "code",
   "execution_count": 832,
   "metadata": {},
   "outputs": [],
   "source": [
    "ver_cloud = []\n",
    "for i in range(len(vertical)):\n",
    "    for p in vertical[i]:\n",
    "        ver_cloud.append(p)\n",
    "        \n",
    "        \n",
    "pcd1 = py3d.PointCloud()\n",
    "pcd1.points = py3d.Vector3dVector(ver_cloud)\n",
    "\n",
    "#py3d.draw_geometries([pcd1])"
   ]
  },
  {
   "cell_type": "code",
   "execution_count": 833,
   "metadata": {},
   "outputs": [],
   "source": [
    "hor_cloud = []\n",
    "for i in range(len(horizontal)):\n",
    "    for p in horizontal[i]:\n",
    "        hor_cloud.append(p)\n",
    "        \n",
    "        \n",
    "pcd2 = py3d.PointCloud()\n",
    "pcd2.points = py3d.Vector3dVector(hor_cloud)\n",
    "\n",
    "#py3d.draw_geometries([pcd2])"
   ]
  },
  {
   "cell_type": "code",
   "execution_count": 835,
   "metadata": {},
   "outputs": [],
   "source": [
    "draw_registration_result(pcd1, pcd2)"
   ]
  },
  {
   "cell_type": "markdown",
   "metadata": {},
   "source": [
    "### Подсчет метрики CUSUM"
   ]
  },
  {
   "cell_type": "code",
   "execution_count": 503,
   "metadata": {},
   "outputs": [],
   "source": [
    "my_data = []\n",
    "for i in range(len(horizontal)):\n",
    "    if len(horizontal[i]) is not 0:\n",
    "        my_data.extend(np.hstack([horizontal[i], np.zeros((len(horizontal[i]), 1))]))\n",
    "for i in range(len(vertical)):\n",
    "    if len(vertical[i]) is not 0:\n",
    "        my_data.extend(np.hstack([vertical[i], np.ones((len(vertical[i]), 1))]))\n",
    "    "
   ]
  },
  {
   "cell_type": "code",
   "execution_count": 42,
   "metadata": {},
   "outputs": [],
   "source": [
    "data_all = np.loadtxt('data_all.txt')\n",
    "my_data = np.loadtxt('my_data.txt')"
   ]
  },
  {
   "cell_type": "code",
   "execution_count": 44,
   "metadata": {},
   "outputs": [],
   "source": [
    "data_all = data_all[data_all[:, 2].argsort()]\n",
    "data_all = data_all[data_all[:, 1].argsort(kind='mergesort')]\n",
    "data_all = data_all[data_all[:, 0].argsort(kind='mergesort')]"
   ]
  },
  {
   "cell_type": "code",
   "execution_count": 45,
   "metadata": {},
   "outputs": [],
   "source": [
    "my_data = my_data[my_data[:, 2].argsort()]\n",
    "my_data = my_data[my_data[:, 1].argsort(kind='mergesort')]\n",
    "my_data = my_data[my_data[:, 0].argsort(kind='mergesort')]"
   ]
  },
  {
   "cell_type": "code",
   "execution_count": 46,
   "metadata": {},
   "outputs": [],
   "source": [
    "data = data_all[:, :3]\n",
    "true_labels = data_all[:, 3]\n",
    "data_my = my_data[:, :3]\n",
    "my_labels = my_data[:, 3]"
   ]
  },
  {
   "cell_type": "markdown",
   "metadata": {},
   "source": [
    "#### Соотношение точек"
   ]
  },
  {
   "cell_type": "code",
   "execution_count": 47,
   "metadata": {},
   "outputs": [
    {
     "data": {
      "text/plain": [
       "4.087490102929533"
      ]
     },
     "execution_count": 47,
     "metadata": {},
     "output_type": "execute_result"
    }
   ],
   "source": [
    "len(true_labels)/len(np.nonzero(true_labels)[0])"
   ]
  },
  {
   "cell_type": "markdown",
   "metadata": {},
   "source": [
    "### Метрики"
   ]
  },
  {
   "cell_type": "code",
   "execution_count": 50,
   "metadata": {},
   "outputs": [],
   "source": [
    "from sklearn.metrics import roc_auc_score\n",
    "from sklearn.metrics import recall_score\n",
    "from sklearn.metrics import precision_score\n",
    "from sklearn.metrics import f1_score"
   ]
  },
  {
   "cell_type": "code",
   "execution_count": 51,
   "metadata": {},
   "outputs": [
    {
     "name": "stdout",
     "output_type": "stream",
     "text": [
      "0.7635822325577151\n",
      "[0.8669081  0.44456463]\n"
     ]
    }
   ],
   "source": [
    "print(precision_score(true_labels, my_labels, average='weighted'))\n",
    "print(precision_score(true_labels, my_labels, average=None))"
   ]
  },
  {
   "cell_type": "code",
   "execution_count": 52,
   "metadata": {},
   "outputs": [
    {
     "name": "stdout",
     "output_type": "stream",
     "text": [
      "0.7156416464891041\n",
      "[0.7366329  0.65083135]\n"
     ]
    }
   ],
   "source": [
    "print(recall_score(true_labels, my_labels, average='weighted')) # Calculate metrics for each label, and find their unweighted mean. This does not take label imbalance into account.\n",
    "print(recall_score(true_labels, my_labels, average=None))"
   ]
  },
  {
   "cell_type": "code",
   "execution_count": 819,
   "metadata": {},
   "outputs": [
    {
     "name": "stdout",
     "output_type": "stream",
     "text": [
      "0.733550589708025\n",
      "[0.76514503 0.68740837]\n"
     ]
    }
   ],
   "source": [
    "print(f1_score(true_labels, my_labels, average='weighted'))\n",
    "print(f1_score(true_labels, my_labels, average=None))"
   ]
  },
  {
   "cell_type": "markdown",
   "metadata": {},
   "source": [
    "### Подсчет метрики SR"
   ]
  },
  {
   "cell_type": "code",
   "execution_count": 504,
   "metadata": {},
   "outputs": [],
   "source": [
    "my_data_sr = []\n",
    "for i in range(len(horizontal)):\n",
    "    if len(horizontal[i]) is not 0:\n",
    "        my_data_sr.extend(np.hstack([horizontal[i], np.zeros((len(horizontal[i]), 1))]))\n",
    "for i in range(len(vertical)):\n",
    "    if len(vertical[i]) is not 0:\n",
    "        my_data_sr.extend(np.hstack([vertical[i], np.ones((len(vertical[i]), 1))]))"
   ]
  },
  {
   "cell_type": "code",
   "execution_count": 835,
   "metadata": {},
   "outputs": [],
   "source": [
    "my_data_sr = np.loadtxt('my_data_sr.txt')"
   ]
  },
  {
   "cell_type": "code",
   "execution_count": 839,
   "metadata": {},
   "outputs": [],
   "source": [
    "my_data_sr = my_data_sr[my_data_sr[:, 2].argsort()]\n",
    "my_data_sr = my_data_sr[my_data_sr[:, 1].argsort(kind='mergesort')]\n",
    "my_data_sr = my_data_sr[my_data_sr[:, 0].argsort(kind='mergesort')]"
   ]
  },
  {
   "cell_type": "markdown",
   "metadata": {},
   "source": [
    "### Метрики"
   ]
  },
  {
   "cell_type": "code",
   "execution_count": 842,
   "metadata": {},
   "outputs": [
    {
     "name": "stdout",
     "output_type": "stream",
     "text": [
      "0.7558594595259278\n",
      "[0.73983265 0.77926587]\n"
     ]
    }
   ],
   "source": [
    "print(precision_score(true_labels, my_labels_sr, average='weighted'))\n",
    "print(precision_score(true_labels, my_labels_sr, average=None))"
   ]
  },
  {
   "cell_type": "code",
   "execution_count": 843,
   "metadata": {},
   "outputs": [
    {
     "name": "stdout",
     "output_type": "stream",
     "text": [
      "0.7509433962264151\n",
      "[0.89522016 0.54023384]\n"
     ]
    }
   ],
   "source": [
    "print(recall_score(true_labels, my_labels_sr, average='weighted'))\n",
    "print(recall_score(true_labels, my_labels_sr, average=None))"
   ]
  },
  {
   "cell_type": "code",
   "execution_count": 844,
   "metadata": {},
   "outputs": [
    {
     "name": "stdout",
     "output_type": "stream",
     "text": [
      "0.740219221230729\n",
      "[0.81014277 0.63809911]\n"
     ]
    }
   ],
   "source": [
    "print(f1_score(true_labels, my_labels_sr, average='weighted'))\n",
    "print(f1_score(true_labels, my_labels_sr, average=None))"
   ]
  }
 ],
 "metadata": {
  "anaconda-cloud": {},
  "kernelspec": {
   "display_name": "Python 3",
   "language": "python",
   "name": "python3"
  },
  "language_info": {
   "codemirror_mode": {
    "name": "ipython",
    "version": 3
   },
   "file_extension": ".py",
   "mimetype": "text/x-python",
   "name": "python",
   "nbconvert_exporter": "python",
   "pygments_lexer": "ipython3",
   "version": "3.6.4"
  }
 },
 "nbformat": 4,
 "nbformat_minor": 1
}
