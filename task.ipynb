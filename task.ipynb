{
 "cells": [
  {
   "cell_type": "code",
   "execution_count": 1,
   "metadata": {},
   "outputs": [],
   "source": [
    "import numpy as np\n",
    "import pykitti\n",
    "import os\n",
    "import math\n",
    "import matplotlib.pyplot as plt\n",
    "from mpl_toolkits.mplot3d import Axes3D\n",
    "import copy\n",
    "import sys\n",
    "sys.path.append(\"/Users/lzherdeva/Docs/Open3D/build/lib\")\n",
    "import py3d"
   ]
  },
  {
   "cell_type": "code",
   "execution_count": 2,
   "metadata": {},
   "outputs": [],
   "source": [
    "basedir = '/Users/lzherdeva/Docs/Diploma/'\n",
    "\n",
    "def load_data(date, drive, frame):\n",
    "    dataset = pykitti.raw(basedir, date, drive)\n",
    "    velo_dataset = list(dataset.velo)\n",
    "    velo_data = velo_dataset[frame]\n",
    "    \n",
    "    print('\\nDrive: ' + str(dataset.drive))\n",
    "\n",
    "    return velo_data"
   ]
  },
  {
   "cell_type": "code",
   "execution_count": 3,
   "metadata": {},
   "outputs": [
    {
     "name": "stdout",
     "output_type": "stream",
     "text": [
      "\n",
      "Drive: 2011_09_26_drive_0005_sync\n"
     ]
    }
   ],
   "source": [
    "date = '2011_09_26'\n",
    "drive = '0005'\n",
    "velo_data = load_data(date, drive, 11)[:, [0,1,2]]"
   ]
  },
  {
   "cell_type": "code",
   "execution_count": 4,
   "metadata": {},
   "outputs": [
    {
     "data": {
      "text/plain": [
       "array([[22.811,  0.067,  0.98 ],\n",
       "       [23.149,  0.141,  0.992],\n",
       "       [23.226,  0.215,  0.995],\n",
       "       ...,\n",
       "       [ 5.724, -1.856, -2.69 ],\n",
       "       [ 5.721, -1.835, -2.686],\n",
       "       [ 5.721, -1.825, -2.684]], dtype=float32)"
      ]
     },
     "execution_count": 4,
     "metadata": {},
     "output_type": "execute_result"
    }
   ],
   "source": [
    "velo_data"
   ]
  },
  {
   "cell_type": "code",
   "execution_count": 5,
   "metadata": {},
   "outputs": [],
   "source": [
    "velo_data = velo_data[np.where((velo_data[:, 0] > -20) & (velo_data[:, 0] < 20) \n",
    "                               & (velo_data[:, 1] > -20) & (velo_data[:, 1] < 20) & (velo_data[:, 2] < 2))]"
   ]
  },
  {
   "cell_type": "markdown",
   "metadata": {},
   "source": [
    "### Show input frame"
   ]
  },
  {
   "cell_type": "code",
   "execution_count": 6,
   "metadata": {},
   "outputs": [],
   "source": [
    "pcd1 = py3d.PointCloud()\n",
    "pcd1.points = py3d.Vector3dVector(velo_data)\n",
    "py3d.draw_geometries([pcd1])"
   ]
  },
  {
   "cell_type": "code",
   "execution_count": 7,
   "metadata": {},
   "outputs": [],
   "source": [
    "source_down = py3d.voxel_down_sample(pcd1, 0.3) # create a uniformly downsampled point cloud from an input point cloud\n",
    "points = np.asarray(source_down.points)\n",
    "velo_data = points"
   ]
  },
  {
   "cell_type": "markdown",
   "metadata": {},
   "source": [
    "### Divide points into segments"
   ]
  },
  {
   "cell_type": "code",
   "execution_count": 8,
   "metadata": {},
   "outputs": [],
   "source": [
    "def dotproduct(v1, v2):\n",
    "    return sum((a*b) for a, b in zip(v1, v2))\n",
    "\n",
    "def length(v):\n",
    "    return math.sqrt(dotproduct(v, v))\n",
    "\n",
    "def unit_vector(vector):\n",
    "    return vector / np.linalg.norm(vector)\n",
    "\n",
    "def comp_angle(v1, v2):\n",
    "    sign = dotproduct(v1, v2)\n",
    "    v1_u = unit_vector(v1)\n",
    "    v2_u = unit_vector(v2)\n",
    "    if sign > 0:\n",
    "        if v1[1] < 0:\n",
    "            return 360 - np.degrees(np.arccos(np.clip(np.dot(v1_u, v2_u), -1.0, 1.0)))\n",
    "        else:\n",
    "            return np.degrees(np.arccos(np.clip(np.dot(v1_u, v2_u), -1.0, 1.0)))\n",
    "    else:\n",
    "        if v1[1] < 0:\n",
    "            return 360 - np.degrees(np.arccos(np.clip(np.dot(v1_u, v2_u), -1.0, 1.0)))\n",
    "        else:\n",
    "            return np.degrees(np.arccos(np.clip(np.dot(v1_u, v2_u), -1.0, 1.0)))\n",
    "            "
   ]
  },
  {
   "cell_type": "code",
   "execution_count": 9,
   "metadata": {},
   "outputs": [],
   "source": [
    "ref_vector = [1, 0]\n",
    "step = 0\n",
    "scanlines = [[] for _ in range(360*2)]\n",
    "for i in range(len(velo_data)):\n",
    "    angle = comp_angle(velo_data[:, [0, 1]][i], ref_vector)\n",
    "    index = 0\n",
    "    for step in np.arange(0.5, 360+0.5, 0.5):\n",
    "        if angle < step and angle >= step-0.5:\n",
    "            try:\n",
    "                scanlines[index].append(velo_data[i])\n",
    "            except:\n",
    "                print(index, step)\n",
    "        index+=1"
   ]
  },
  {
   "cell_type": "markdown",
   "metadata": {},
   "source": [
    "$$ \\frac{x - x_1}{x_2 - x_1} = \\frac{y - y_1}{y_2 - y_1} = \\frac{z - z_1}{z_2 - z_1}$$\n"
   ]
  },
  {
   "cell_type": "markdown",
   "metadata": {},
   "source": [
    "### Sorted by z-coordinate"
   ]
  },
  {
   "cell_type": "code",
   "execution_count": 11,
   "metadata": {},
   "outputs": [],
   "source": [
    "import operator\n",
    "from convert import convert_to_variables"
   ]
  },
  {
   "cell_type": "code",
   "execution_count": 12,
   "metadata": {},
   "outputs": [],
   "source": [
    "scans = [[] for _ in range(len(scanlines))]\n",
    "for num in range(0, len(scanlines), 1):\n",
    "    zs = {}\n",
    "    for i, p in enumerate(scanlines[num]):\n",
    "        if p[1] == 0:\n",
    "            z = p[1] / p[0]\n",
    "        else:\n",
    "            y = np.sqrt(1. / (1. + (p[0] / p[1]) ** 2))\n",
    "            z = y * (p[2] / p[1])\n",
    "        zs[z] = i\n",
    "    sorted_zs  = np.array(sorted(zs.items(), key=operator.itemgetter(0)))\n",
    "    if len(sorted_zs) == 0:\n",
    "        scans[num] = []\n",
    "    else:\n",
    "        true_scanline = []\n",
    "        for index in sorted_zs[:, [1]]:\n",
    "            true_scanline.append(scanlines[num][int(index)])\n",
    "        true_scanline = np.array(true_scanline)\n",
    "        scans[num] = true_scanline"
   ]
  },
  {
   "cell_type": "markdown",
   "metadata": {},
   "source": [
    "### Create clusters"
   ]
  },
  {
   "cell_type": "code",
   "execution_count": 38,
   "metadata": {},
   "outputs": [],
   "source": [
    "def get_clusters(cur_scan):\n",
    "    clusters = [[] for _ in range(len(cur_scan))]\n",
    "    base_pho = cur_scan[0][0]**2 + cur_scan[0][1]**2 + cur_scan[0][2]**2\n",
    "    clusters[0].append(cur_scan[0])\n",
    "    ind = 0\n",
    "    for i in range(1, len(cur_scan)):\n",
    "        pho = cur_scan[i][0]**2 + cur_scan[i][1]**2 + cur_scan[i][2]**2\n",
    "        if abs(base_pho - pho) >=2:\n",
    "            ind += 1\n",
    "            clusters[ind].append(np.array(cur_scan[i]))\n",
    "            base_pho = pho\n",
    "        else:\n",
    "            clusters[ind].append(np.array(cur_scan[i])) \n",
    "    return clusters\n"
   ]
  },
  {
   "cell_type": "code",
   "execution_count": 15,
   "metadata": {},
   "outputs": [],
   "source": [
    "clusters = [[] for _ in range(len(scans))]\n",
    "for i in range(len(scans)):\n",
    "    if len(scans[i]) == 0:\n",
    "        clusters[i] = []\n",
    "    else:\n",
    "        clusters[i] = get_clusters(scans[i])\n",
    "    "
   ]
  },
  {
   "cell_type": "markdown",
   "metadata": {},
   "source": [
    "### Get median == new scanlines"
   ]
  },
  {
   "cell_type": "code",
   "execution_count": 39,
   "metadata": {},
   "outputs": [],
   "source": [
    "def get_new_scanline(clusters):\n",
    "    medians = []\n",
    "    for i in range(len(clusters)):\n",
    "        if clusters[i] != []:\n",
    "            medians.append(np.median(clusters[i], axis=0))\n",
    "    return medians"
   ]
  },
  {
   "cell_type": "code",
   "execution_count": 18,
   "metadata": {},
   "outputs": [],
   "source": [
    "new_scanlines = [[] for _ in range(len(clusters))]\n",
    "for i in range(len(clusters)):\n",
    "    new_scanlines[i] = get_new_scanline(clusters[i])"
   ]
  },
  {
   "cell_type": "markdown",
   "metadata": {},
   "source": [
    "### Get variables"
   ]
  },
  {
   "cell_type": "code",
   "execution_count": 19,
   "metadata": {},
   "outputs": [],
   "source": [
    "sVs = [[] for _ in range(len(new_scanlines))]\n",
    "for i in range(len(new_scanlines)):\n",
    "    if len(new_scanlines[i]) == 1:\n",
    "        sVs[i] = [0]\n",
    "    elif len(new_scanlines[i]) == 0:\n",
    "        sVs[i] = [0]\n",
    "    else:\n",
    "        try:\n",
    "            sVs[i] = convert_to_variables(np.array(new_scanlines[i]))\n",
    "        except:\n",
    "            print(len(new_scanlines[i]))"
   ]
  },
  {
   "cell_type": "code",
   "execution_count": 40,
   "metadata": {},
   "outputs": [],
   "source": [
    "def plot(sVs):\n",
    "    plt.plot(range(len(sVs)), sVs)\n",
    "    plt.show()"
   ]
  },
  {
   "cell_type": "code",
   "execution_count": 45,
   "metadata": {},
   "outputs": [
    {
     "data": {
      "text/plain": [
       "[<matplotlib.lines.Line2D at 0x1150cf748>]"
      ]
     },
     "execution_count": 45,
     "metadata": {},
     "output_type": "execute_result"
    },
    {
     "data": {
      "image/png": "[encoded data removed]",
      "text/plain": [
       "<matplotlib.figure.Figure at 0x114b93908>"
      ]
     },
     "metadata": {},
     "output_type": "display_data"
    }
   ],
   "source": [
    "plt.plot(range(len(sVs[10])), sVs[10])"
   ]
  },
  {
   "cell_type": "code",
   "execution_count": 46,
   "metadata": {},
   "outputs": [
    {
     "data": {
      "image/png": "[encoded data removed]",
      "text/plain": [
       "<matplotlib.figure.Figure at 0x114cf1470>"
      ]
     },
     "metadata": {},
     "output_type": "display_data"
    },
    {
     "data": {
      "image/png": "[encoded data removed]",
      "text/plain": [
       "<matplotlib.figure.Figure at 0x114cdc160>"
      ]
     },
     "metadata": {},
     "output_type": "display_data"
    },
    {
     "data": {
      "image/png": "[encoded data removed]",
      "text/plain": [
       "<matplotlib.figure.Figure at 0x115bf8588>"
      ]
     },
     "metadata": {},
     "output_type": "display_data"
    },
    {
     "data": {
      "image/png": "[encoded data removed]",
      "text/plain": [
       "<matplotlib.figure.Figure at 0x115c455f8>"
      ]
     },
     "metadata": {},
     "output_type": "display_data"
    }
   ],
   "source": [
    "plt.figure(1)\n",
    "for i in range(1, 5):\n",
    "    plt.subplot(220+i)\n",
    "    plot(sVs[i])\n",
    "    "
   ]
  },
  {
   "cell_type": "markdown",
   "metadata": {},
   "source": [
    "### CUSUM"
   ]
  },
  {
   "cell_type": "code",
   "execution_count": 47,
   "metadata": {},
   "outputs": [],
   "source": [
    "from Statistics import Cusum"
   ]
  },
  {
   "cell_type": "code",
   "execution_count": 48,
   "metadata": {},
   "outputs": [],
   "source": [
    "def calculate_cusum_for_scanline(sVs):\n",
    "    stat_trajectory = []\n",
    "    mean_0 = 0.\n",
    "    mean_8 = 90.\n",
    "    std = 1.\n",
    "\n",
    "    cusum = Cusum(mean_0, mean_8, std, 20.)\n",
    "    for x_k in sVs:\n",
    "        cusum.update(x_k)\n",
    "        stat_trajectory.append(cusum._alarm)\n",
    "    return stat_trajectory"
   ]
  },
  {
   "cell_type": "code",
   "execution_count": 49,
   "metadata": {},
   "outputs": [],
   "source": [
    "trajectories_cusum = [[] for _ in range(len(sVs))]\n",
    "for i in range(len(sVs)):\n",
    "    if len(sVs[i]) == 1:\n",
    "        trajectories_cusum[i] = 1\n",
    "    else:\n",
    "        trajectories_cusum[i] = calculate_cusum_for_scanline(sVs[i])"
   ]
  },
  {
   "cell_type": "code",
   "execution_count": 50,
   "metadata": {},
   "outputs": [
    {
     "data": {
      "text/plain": [
       "[<matplotlib.lines.Line2D at 0x1163cf550>]"
      ]
     },
     "execution_count": 50,
     "metadata": {},
     "output_type": "execute_result"
    },
    {
     "data": {
      "image/png": "[encoded data removed]",
      "text/plain": [
       "<matplotlib.figure.Figure at 0x115c7a080>"
      ]
     },
     "metadata": {},
     "output_type": "display_data"
    }
   ],
   "source": [
    "plt.plot(trajectories_cusum[220])"
   ]
  },
  {
   "cell_type": "markdown",
   "metadata": {},
   "source": [
    "### Статистика Ширяева-Робертса"
   ]
  },
  {
   "cell_type": "code",
   "execution_count": 51,
   "metadata": {},
   "outputs": [],
   "source": [
    "from Statistics import ShiryaevRoberts"
   ]
  },
  {
   "cell_type": "code",
   "execution_count": 52,
   "metadata": {},
   "outputs": [],
   "source": [
    "def calculate_sr_for_scanline(sVs):\n",
    "    stat_trajectory = []\n",
    "    mean_0 = 90.\n",
    "    mean_8 = 0.\n",
    "    std = 1.\n",
    "\n",
    "\n",
    "    sr = ShiryaevRoberts(mean_0, mean_8, 20., max_stat=1e6)\n",
    "    for x_k in sVs:\n",
    "        sr.update(x_k)\n",
    "        stat_trajectory.append(sr._alarm)\n",
    "    return stat_trajectory"
   ]
  },
  {
   "cell_type": "code",
   "execution_count": 53,
   "metadata": {},
   "outputs": [
    {
     "name": "stderr",
     "output_type": "stream",
     "text": [
      "/Users/lzherdeva/Docs/Diploma/Statistics.py:67: RuntimeWarning: overflow encountered in exp\n",
      "  likelihood = np.exp(mean_diff * (value - mean_diff / 2.))\n"
     ]
    }
   ],
   "source": [
    "trajectories_sr = [[] for _ in range(len(sVs))]\n",
    "for i in range(len(sVs)):\n",
    "    if len(sVs[i]) == 1:\n",
    "        trajectories_sr[i] = 1\n",
    "    else:\n",
    "        trajectories_sr[i] = calculate_sr_for_scanline(sVs[i])"
   ]
  },
  {
   "cell_type": "code",
   "execution_count": 55,
   "metadata": {},
   "outputs": [
    {
     "data": {
      "text/plain": [
       "[50000.0,\n",
       " 50000.0,\n",
       " 50000.0,\n",
       " 50000.0,\n",
       " 50000.0,\n",
       " 50000.0,\n",
       " 50000.0,\n",
       " 50000.0,\n",
       " 50000.0,\n",
       " 50000.0,\n",
       " 50000.0,\n",
       " 50000.0,\n",
       " 0.0]"
      ]
     },
     "execution_count": 55,
     "metadata": {},
     "output_type": "execute_result"
    }
   ],
   "source": [
    "trajectories_sr[0]"
   ]
  },
  {
   "cell_type": "code",
   "execution_count": 58,
   "metadata": {},
   "outputs": [
    {
     "data": {
      "text/plain": [
       "[<matplotlib.lines.Line2D at 0x1150f42b0>]"
      ]
     },
     "execution_count": 58,
     "metadata": {},
     "output_type": "execute_result"
    },
    {
     "data": {
      "image/png": "[encoded data removed]",
      "text/plain": [
       "<matplotlib.figure.Figure at 0x115c3ee48>"
      ]
     },
     "metadata": {},
     "output_type": "display_data"
    }
   ],
   "source": [
    "plt.plot(trajectories_sr[0])"
   ]
  },
  {
   "cell_type": "markdown",
   "metadata": {},
   "source": [
    "### Visualization"
   ]
  },
  {
   "cell_type": "markdown",
   "metadata": {},
   "source": [
    "### CUSUM"
   ]
  },
  {
   "cell_type": "code",
   "execution_count": 65,
   "metadata": {},
   "outputs": [],
   "source": [
    "changed_indx = [[] for _ in range(len(trajectories_cusum))]\n",
    "zero_indx = [[] for _ in range(len(trajectories_cusum))]\n",
    "for i in range(len(trajectories_cusum)):\n",
    "    changed_indx[i] = np.nonzero(trajectories_cusum[i])[0]\n",
    "    zero_indx[i] = np.where(np.asarray(trajectories_cusum[i]) == 0)[0]"
   ]
  },
  {
   "cell_type": "code",
   "execution_count": 66,
   "metadata": {},
   "outputs": [],
   "source": [
    "horizontal = []\n",
    "vertical = []\n",
    "for ind in range(len(new_scanlines)):\n",
    "    if len(changed_indx[ind]) is not 0:\n",
    "        arr = np.array(new_scanlines[ind])[changed_indx[ind]]\n",
    "        vertical.append(arr)\n",
    "        \n",
    "for ind in range(len(new_scanlines)):\n",
    "    if len(zero_indx[ind]) is not 0:\n",
    "        arr = np.array(new_scanlines[ind])[zero_indx[ind]]\n",
    "        horizontal.append(arr)\n",
    " "
   ]
  },
  {
   "cell_type": "code",
   "execution_count": 67,
   "metadata": {},
   "outputs": [],
   "source": [
    "ver_cloud = []\n",
    "for i in range(len(vertical)):\n",
    "    for p in vertical[i]:\n",
    "        ver_cloud.append(p)\n",
    "        \n",
    "        \n",
    "pcd1 = py3d.PointCloud()\n",
    "pcd1.points = py3d.Vector3dVector(ver_cloud)\n",
    "\n",
    "#py3d.draw_geometries([pcd1])"
   ]
  },
  {
   "cell_type": "code",
   "execution_count": 68,
   "metadata": {},
   "outputs": [],
   "source": [
    "hor_cloud = []\n",
    "for i in range(len(horizontal)):\n",
    "    for p in horizontal[i]:\n",
    "        hor_cloud.append(p)\n",
    "        \n",
    "        \n",
    "pcd2 = py3d.PointCloud()\n",
    "pcd2.points = py3d.Vector3dVector(hor_cloud)\n",
    "\n",
    "#py3d.draw_geometries([pcd2])"
   ]
  },
  {
   "cell_type": "code",
   "execution_count": 69,
   "metadata": {},
   "outputs": [],
   "source": [
    "def draw_registration_result(vertical, horizontal):\n",
    "    vertical_temp = copy.deepcopy(vertical)\n",
    "    horizontal_temp = copy.deepcopy(horizontal)\n",
    "    vertical_temp.paint_uniform_color([1, 0, 0]) # red\n",
    "    horizontal_temp.paint_uniform_color([0, 0, 1]) # blue\n",
    "    py3d.draw_geometries([vertical_temp, horizontal_temp])"
   ]
  },
  {
   "cell_type": "code",
   "execution_count": 70,
   "metadata": {},
   "outputs": [],
   "source": [
    "draw_registration_result(pcd1, pcd2)"
   ]
  },
  {
   "cell_type": "markdown",
   "metadata": {},
   "source": [
    "### SR"
   ]
  },
  {
   "cell_type": "code",
   "execution_count": 71,
   "metadata": {},
   "outputs": [],
   "source": [
    "changed_indx = [[] for _ in range(len(trajectories_sr))]\n",
    "non_changed_indx = [[] for _ in range(len(trajectories_sr))]\n",
    "for i in range(len(trajectories_sr)):\n",
    "    non_changed_indx[i] = np.where(np.asarray(trajectories_sr[i]) == 50000.0)[0]\n",
    "    changed_indx[i] = np.where(np.asarray(trajectories_sr[i]) != 50000.0)[0]"
   ]
  },
  {
   "cell_type": "code",
   "execution_count": 73,
   "metadata": {},
   "outputs": [],
   "source": [
    "horizontal = []\n",
    "vertical = []\n",
    "for ind in range(len(new_scanlines)):\n",
    "    if len(changed_indx[ind]) is not 0:\n",
    "        arr = np.array(new_scanlines[ind])[changed_indx[ind]]\n",
    "        vertical.append(arr)\n",
    "        \n",
    "for ind in range(len(new_scanlines)):\n",
    "    if len(non_changed_indx[ind]) is not 0:\n",
    "        arr = np.array(new_scanlines[ind])[non_changed_indx[ind]]\n",
    "        horizontal.append(arr)\n",
    " "
   ]
  },
  {
   "cell_type": "code",
   "execution_count": 74,
   "metadata": {},
   "outputs": [],
   "source": [
    "ver_cloud = []\n",
    "for i in range(len(vertical)):\n",
    "    for p in vertical[i]:\n",
    "        ver_cloud.append(p)\n",
    "        \n",
    "        \n",
    "pcd1 = py3d.PointCloud()\n",
    "pcd1.points = py3d.Vector3dVector(ver_cloud)\n",
    "\n",
    "#py3d.draw_geometries([pcd1])"
   ]
  },
  {
   "cell_type": "code",
   "execution_count": 75,
   "metadata": {},
   "outputs": [],
   "source": [
    "hor_cloud = []\n",
    "for i in range(len(horizontal)):\n",
    "    for p in horizontal[i]:\n",
    "        hor_cloud.append(p)\n",
    "        \n",
    "        \n",
    "pcd2 = py3d.PointCloud()\n",
    "pcd2.points = py3d.Vector3dVector(hor_cloud)\n",
    "\n",
    "#py3d.draw_geometries([pcd2])"
   ]
  },
  {
   "cell_type": "code",
   "execution_count": 76,
   "metadata": {},
   "outputs": [],
   "source": [
    "draw_registration_result(pcd1, pcd2)"
   ]
  },
  {
   "cell_type": "code",
   "execution_count": null,
   "metadata": {},
   "outputs": [],
   "source": []
  },
  {
   "cell_type": "code",
   "execution_count": null,
   "metadata": {},
   "outputs": [],
   "source": []
  },
  {
   "cell_type": "markdown",
   "metadata": {},
   "source": [
    "### Искусственные данные"
   ]
  },
  {
   "cell_type": "code",
   "execution_count": 167,
   "metadata": {},
   "outputs": [],
   "source": [
    "points = np.zeros((50, 3))"
   ]
  },
  {
   "cell_type": "code",
   "execution_count": 168,
   "metadata": {},
   "outputs": [],
   "source": [
    "for i in range(20):\n",
    "    points[i][0] = 3\n",
    "    points[i][1] = -i*0.2\n",
    "    points[i][2] = 0 "
   ]
  },
  {
   "cell_type": "code",
   "execution_count": 169,
   "metadata": {},
   "outputs": [],
   "source": [
    "for i in range(30):\n",
    "    points[i+20][0] = 3\n",
    "    points[i+20][1] = 0\n",
    "    points[i+20][2] = i*0.2"
   ]
  },
  {
   "cell_type": "code",
   "execution_count": 170,
   "metadata": {},
   "outputs": [],
   "source": [
    "points[:, 0] = points[:,0] + np.random.normal(0,0.02,50)\n",
    "points[:, 1] = points[:,1] + np.random.normal(0,0.02,50)\n",
    "points[:, 2] = points[:,2] + np.random.normal(0,0.02,50)"
   ]
  },
  {
   "cell_type": "code",
   "execution_count": 171,
   "metadata": {},
   "outputs": [
    {
     "data": {
      "text/plain": [
       "(-5, 5)"
      ]
     },
     "execution_count": 171,
     "metadata": {},
     "output_type": "execute_result"
    },
    {
     "data": {
      "image/png": "[encoded data removed]",
      "text/plain": [
       "<matplotlib.figure.Figure at 0x129c22278>"
      ]
     },
     "metadata": {},
     "output_type": "display_data"
    }
   ],
   "source": [
    "from mpl_toolkits.mplot3d import Axes3D\n",
    "import matplotlib.pyplot as plt\n",
    "fig = plt.figure()\n",
    "ax = Axes3D(fig)\n",
    "axes = [0,1,2]\n",
    "axes_str = ['X', 'Y', 'Z']\n",
    "axes_limits = [\n",
    "    [-5, 5], # X axis range\n",
    "    [-5, 5], # Y axis range\n",
    "    [-5, 5]   # Z axis range\n",
    "]\n",
    "ax.scatter(*np.transpose(points[:, axes]))\n",
    "ax.set_xlabel('{} axis'.format(axes_str[axes[0]]))\n",
    "ax.set_ylabel('{} axis'.format(axes_str[axes[1]]))\n",
    "ax.set_xlim3d(*axes_limits[axes[0]])\n",
    "ax.set_ylim3d(*axes_limits[axes[1]])\n",
    "ax.set_zlim3d(*axes_limits[axes[2]])"
   ]
  },
  {
   "cell_type": "code",
   "execution_count": 172,
   "metadata": {},
   "outputs": [],
   "source": [
    "def find_sV(points):\n",
    "    Ds = np.zeros((points.shape[0] - 1, points.shape[1]))\n",
    "    Vs = np.zeros((points.shape[0] - 1))\n",
    "\n",
    "    for i in range(len(points) - 1):\n",
    "        Ds[i] = points[i+1] - points[i]\n",
    "    z = [0,0,1]\n",
    "    for i in range(len(points) -1):\n",
    "        Vs[i] = angle(Ds[i], z)\n",
    "    s = np.zeros(Ds.shape[0] - 1)\n",
    "    sV = np.zeros(Ds.shape[0] - 1)\n",
    "    for i in range(0, Ds.shape[0] - 1):\n",
    "        s[i] = np.sign(np.dot(Ds[i+1], Ds[i]))\n",
    "        sV[i] = s[i] * Vs[i]\n",
    "    return sV\n",
    "  \n",
    "    "
   ]
  },
  {
   "cell_type": "code",
   "execution_count": 113,
   "metadata": {},
   "outputs": [],
   "source": [
    "sVs = []\n",
    "for i in range(len(cloud)):\n",
    "    sVs.append(find_sV(cloud[i]))\n",
    "    "
   ]
  },
  {
   "cell_type": "code",
   "execution_count": 114,
   "metadata": {},
   "outputs": [
    {
     "data": {
      "image/png": "[encoded data removed]",
      "text/plain": [
       "<matplotlib.figure.Figure at 0x12a39f6d8>"
      ]
     },
     "metadata": {},
     "output_type": "display_data"
    }
   ],
   "source": [
    "for i in range(len(cloud)):\n",
    "    plt.plot(range(len(sVs[2])), sVs[2])"
   ]
  },
  {
   "cell_type": "markdown",
   "metadata": {},
   "source": [
    "### Point-cloud"
   ]
  },
  {
   "cell_type": "code",
   "execution_count": 72,
   "metadata": {},
   "outputs": [],
   "source": [
    "cloud = np.zeros((7, 50, 3))"
   ]
  },
  {
   "cell_type": "code",
   "execution_count": 85,
   "metadata": {},
   "outputs": [],
   "source": [
    "for i in range(50):\n",
    "    cloud[0][i][0] = i*0.2\n",
    "    cloud[0][i][1] = 0\n",
    "    cloud[0][i][2] = i* 0.001\n",
    "\n",
    "for i in range(50):\n",
    "    cloud[1][i][0] = i*0.2\n",
    "    cloud[1][i][1] = i*0.2\n",
    "    cloud[1][i][2] = i* 0.001\n",
    "\n",
    "for i in range(30):\n",
    "    cloud[2][i][0] = -i*0.2\n",
    "    cloud[2][i][1] = i*0.3\n",
    "    cloud[2][i][2] = 0\n",
    "    \n",
    "for i in range(1, 21):\n",
    "    cloud[2][i+29][0] = -29*0.2\n",
    "    cloud[2][i+29][1] = 29*0.3\n",
    "    cloud[2][i+29][2] = i*0.2\n",
    "    \n",
    "for i in range(30):\n",
    "    cloud[3][i][0] = -i*0.2\n",
    "    cloud[3][i][1] = i*0.4\n",
    "    cloud[3][i][2] = 0\n",
    "    \n",
    "for i in range(1, 21):\n",
    "    cloud[3][i+29][0] = -29*0.2\n",
    "    cloud[3][i+29][1] = 29*0.4\n",
    "    cloud[3][i+29][2] = i*0.2\n",
    "    \n",
    "\n",
    "for i in range(50):\n",
    "    cloud[4][i][0] = i*0.2\n",
    "    cloud[4][i][1] = i*0.5\n",
    "    cloud[4][i][2] = i* 0.002\n",
    "    \n",
    "\n",
    "for i in range(50):\n",
    "    cloud[5][i][0] = -i*0.2\n",
    "    cloud[5][i][1] = -i*0.5\n",
    "    cloud[5][i][2] = 0  \n",
    "    \n",
    "for i in range(50):\n",
    "    cloud[6][i][0] = i*0.2\n",
    "    cloud[6][i][1] = -i*0.3\n",
    "    cloud[6][i][2] = 0  "
   ]
  },
  {
   "cell_type": "code",
   "execution_count": 86,
   "metadata": {},
   "outputs": [
    {
     "data": {
      "text/plain": [
       "Text(0.5,0,'Y axis')"
      ]
     },
     "execution_count": 86,
     "metadata": {},
     "output_type": "execute_result"
    },
    {
     "data": {
      "image/png": "[encoded data removed]",
      "text/plain": [
       "<matplotlib.figure.Figure at 0x125678be0>"
      ]
     },
     "metadata": {},
     "output_type": "display_data"
    }
   ],
   "source": [
    "from mpl_toolkits.mplot3d import Axes3D\n",
    "import matplotlib.pyplot as plt\n",
    "fig = plt.figure()\n",
    "ax = Axes3D(fig)\n",
    "axes = [0,1,2]\n",
    "axes_str = ['X', 'Y', 'Z']\n",
    "axes_limits = [\n",
    "    [-1, 10], # X axis range\n",
    "    [-1, 10], # Y axis range\n",
    "    [-1, 5]   # Z axis range\n",
    "]\n",
    "ax.scatter(*np.transpose(cloud[0][:, axes]))\n",
    "ax.scatter(*np.transpose(cloud[1][:, axes]))\n",
    "ax.scatter(*np.transpose(cloud[2][:, axes]))\n",
    "ax.scatter(*np.transpose(cloud[3][:, axes]))\n",
    "ax.scatter(*np.transpose(cloud[4][:, axes]))\n",
    "ax.scatter(*np.transpose(cloud[5][:, axes]))\n",
    "ax.scatter(*np.transpose(cloud[6][:, axes]))\n",
    "\n",
    "ax.set_xlabel('{} axis'.format(axes_str[axes[0]]))\n",
    "ax.set_ylabel('{} axis'.format(axes_str[axes[1]]))\n",
    "#ax.set_xlim3d(*axes_limits[axes[0]])\n",
    "#ax.set_ylim3d(*axes_limits[axes[1]])\n",
    "#ax.set_zlim3d(*axes_limits[axes[2]])"
   ]
  },
  {
   "cell_type": "code",
   "execution_count": null,
   "metadata": {},
   "outputs": [],
   "source": []
  },
  {
   "cell_type": "code",
   "execution_count": null,
   "metadata": {},
   "outputs": [],
   "source": []
  }
 ],
 "metadata": {
  "anaconda-cloud": {},
  "kernelspec": {
   "display_name": "Python 3",
   "language": "python",
   "name": "python3"
  },
  "language_info": {
   "codemirror_mode": {
    "name": "ipython",
    "version": 3
   },
   "file_extension": ".py",
   "mimetype": "text/x-python",
   "name": "python",
   "nbconvert_exporter": "python",
   "pygments_lexer": "ipython3",
   "version": "3.6.4"
  }
 },
 "nbformat": 4,
 "nbformat_minor": 1
}
